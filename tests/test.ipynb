{
 "cells": [
  {
   "cell_type": "code",
   "execution_count": 5,
   "metadata": {},
   "outputs": [
    {
     "name": "stdout",
     "output_type": "stream",
     "text": [
      "Date         datetime64[ns]\n",
      "New cases             int64\n",
      "dtype: object\n"
     ]
    }
   ],
   "source": [
    "from date_handler.date_util import convert_all_date_columns\n",
    "import pandas as pd\n",
    "\n",
    "\n",
    "try:\n",
    "    data = pd.read_csv(\"datasets/covid19.csv\")\n",
    "except FileNotFoundError:\n",
    "    print(\"File not found. Please provide a valid filename.\")\n",
    "    exit(1)\n",
    "    \n",
    "date_columns =  convert_all_date_columns(data)\n",
    "print(date_columns.dtypes)"
   ]
  }
 ],
 "metadata": {
  "kernelspec": {
   "display_name": "venv",
   "language": "python",
   "name": "python3"
  },
  "language_info": {
   "codemirror_mode": {
    "name": "ipython",
    "version": 3
   },
   "file_extension": ".py",
   "mimetype": "text/x-python",
   "name": "python",
   "nbconvert_exporter": "python",
   "pygments_lexer": "ipython3",
   "version": "3.11.4"
  },
  "orig_nbformat": 4
 },
 "nbformat": 4,
 "nbformat_minor": 2
}
